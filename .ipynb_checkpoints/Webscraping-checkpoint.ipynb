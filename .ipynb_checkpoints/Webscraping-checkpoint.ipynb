{
 "cells": [
  {
   "cell_type": "code",
   "execution_count": 9,
   "id": "4c74972e",
   "metadata": {},
   "outputs": [],
   "source": [
    "import requests\n",
    "from bs4 import BeautifulSoup"
   ]
  },
  {
   "cell_type": "code",
   "execution_count": 8,
   "id": "0c275651",
   "metadata": {},
   "outputs": [
    {
     "data": {
      "text/plain": [
       "<Response [200]>"
      ]
     },
     "execution_count": 8,
     "metadata": {},
     "output_type": "execute_result"
    }
   ],
   "source": [
    "#Getting repsonse \n",
    "url = 'https://www.imdb.com/title/tt0944947/reviews/?ref_=tt_ql_urv'\n",
    "\n",
    "response = requests.get(url)\n",
    "response"
   ]
  },
  {
   "cell_type": "code",
   "execution_count": 10,
   "id": "dac00dc5",
   "metadata": {},
   "outputs": [],
   "source": [
    "#Soup object\n",
    "soup = BeautifulSoup(response.text, parser = 'html')\n"
   ]
  },
  {
   "cell_type": "code",
   "execution_count": 75,
   "id": "9310fd06",
   "metadata": {},
   "outputs": [],
   "source": [
    "#Extracting reviews section\n",
    "\n",
    "reviews = soup.find_all('div', class_ = 'lister-list')"
   ]
  },
  {
   "cell_type": "code",
   "execution_count": 65,
   "id": "ed46ef04",
   "metadata": {},
   "outputs": [
    {
     "data": {
      "text/plain": [
       "1"
      ]
     },
     "execution_count": 65,
     "metadata": {},
     "output_type": "execute_result"
    }
   ],
   "source": [
    "len(reviews)"
   ]
  },
  {
   "cell_type": "code",
   "execution_count": 38,
   "id": "fa4c58a5",
   "metadata": {},
   "outputs": [],
   "source": [
    "#Review containers\n",
    "\n",
    "rev_cont = reviews[0].find_all('div', class_ ='lister-item mode-detail imdb-user-review with-spoiler')\n",
    "rev_cont = rev_cont + reviews[0].find_all('div', class_ ='lister-item mode-detail imdb-user-review collapsable')"
   ]
  },
  {
   "cell_type": "code",
   "execution_count": 39,
   "id": "63aee966",
   "metadata": {},
   "outputs": [
    {
     "data": {
      "text/plain": [
       "24"
      ]
     },
     "execution_count": 39,
     "metadata": {},
     "output_type": "execute_result"
    }
   ],
   "source": [
    "len(rev_cont)"
   ]
  },
  {
   "cell_type": "code",
   "execution_count": 76,
   "id": "ce14cf1e",
   "metadata": {},
   "outputs": [],
   "source": [
    "rev_cont = reviews[0].find_all('div', class_ = 'review-container')\n",
    "#helpfulness = rev_cont[0].find_all('div', class_ = 'actions text-muted')"
   ]
  },
  {
   "cell_type": "code",
   "execution_count": 77,
   "id": "c6147432",
   "metadata": {},
   "outputs": [
    {
     "data": {
      "text/plain": [
       "24"
      ]
     },
     "execution_count": 77,
     "metadata": {},
     "output_type": "execute_result"
    }
   ],
   "source": [
    "len(rev_cont)"
   ]
  },
  {
   "cell_type": "code",
   "execution_count": 105,
   "id": "c7c10ae8",
   "metadata": {},
   "outputs": [],
   "source": [
    "#Testing if the content is extracted \n",
    "title = rev_cont[5].find('a', class_='title').text\n",
    "rating =rev_cont[5].find('div', class_='ipl-ratings-bar').span.span.text\n",
    "date =rev_cont[5].find('div', class_='display-name-date').find_all('span')[1].text\n",
    "review_content =rev_cont[5].find('div', class_='content').div.text\n"
   ]
  },
  {
   "cell_type": "code",
   "execution_count": 106,
   "id": "9a1e6969",
   "metadata": {},
   "outputs": [
    {
     "data": {
      "text/plain": [
       "' Game of Thrones\\n'"
      ]
     },
     "execution_count": 106,
     "metadata": {},
     "output_type": "execute_result"
    }
   ],
   "source": [
    "title"
   ]
  },
  {
   "cell_type": "code",
   "execution_count": 107,
   "id": "c9d77285",
   "metadata": {},
   "outputs": [
    {
     "data": {
      "text/plain": [
       "'8'"
      ]
     },
     "execution_count": 107,
     "metadata": {},
     "output_type": "execute_result"
    }
   ],
   "source": [
    "rating"
   ]
  },
  {
   "cell_type": "code",
   "execution_count": 108,
   "id": "a4e1c795",
   "metadata": {},
   "outputs": [
    {
     "data": {
      "text/plain": [
       "'10 May 2019'"
      ]
     },
     "execution_count": 108,
     "metadata": {},
     "output_type": "execute_result"
    }
   ],
   "source": [
    "date"
   ]
  },
  {
   "cell_type": "code",
   "execution_count": 109,
   "id": "cffabf2c",
   "metadata": {},
   "outputs": [
    {
     "data": {
      "text/plain": [
       "\"I would give this an easy 10/10.. if season 8 didn't exist. But it does, unfortunately.Season 1-6 10/10 Amazing, complex dialogue and intriguing logical story lines with strong character developments and shocking emotional moments. On top of the insane action scenes. A few MINOR flaws in s5/6Season 7- 7/10 - still good but seemed rushed and had some illogical moments that made no sense.Season 8- 3/10 I actually don't know where or start. Season 8 is a joke. Terrible writing. Nothing makes sense. The writers have butchered many character's developments and given hardly any satisfying conclusions to their story arcs. Brans story had no pay off at all and his whole role as the 3 eyed raven proved pointless against the Night King. Jaime's redemption arc was cut off instantly with real no reason. The Night Kings death was underwhelming. Infact all of episode 3 was poor, with no real structure and poorly written end to the main story line of the show. No Sansa and Cersei interaction of any sort which I would have liked to have seen. Unbelievable unrealistic plot armour. The plot armour ruined the battle of Winterfell. 'All' the Dothraki wiped out in seconds yet Samwell Tarly can fend them off. Many more characters needed to die that episode. Rhaegal taken down by first 3 shots, yet Drogon dodges an Iron fleets worth of Scorpions at Kings Landing, which weren't even shooting, just to serve the plot. I guess Euron forgot about Dany's dragon and her forces. Jon does nothing all season (why was he resurrected? ). Speaking of Jon, what was the point of his lineage? It didn't change anything. I kind of like Danaerys going mad but it needed a lot more time and thought put into it - It went too far too fast with no substantial development to justify her killing thousands of innocents. It was actually laughable. Needed seasons of planning and transitioning her character. After Dany's death it just skipped to Tyrion's trial and no one seemed phased over it. Anything that required any thought from the Writers was done off screen, like Arya and Sansa finding out about Jon's lineage. Major let downs and bad dialogue throughout. There are some good moments but very few and far between. Have to appreciate effort by cast, directing and music crew and the few decent scenes as a whole. Also, Cersei, who I personally think is the most interesting character gets 20 minutes screen time all season and does nothing except look out of a window.Overall- 8/10 purely on S1-7\""
      ]
     },
     "execution_count": 109,
     "metadata": {},
     "output_type": "execute_result"
    }
   ],
   "source": [
    "review_content"
   ]
  },
  {
   "cell_type": "code",
   "execution_count": 118,
   "id": "47bf5e81",
   "metadata": {},
   "outputs": [
    {
     "data": {
      "text/plain": [
       "<button class=\"ipl-load-more__button\" data-target-container=\"reviews-container\" id=\"load-more-trigger\">Load More</button>"
      ]
     },
     "execution_count": 118,
     "metadata": {},
     "output_type": "execute_result"
    }
   ],
   "source": [
    "#Pressing Button to load more data\n",
    "button = soup.find('button', class_ = 'ipl-load-more__button')\n",
    "button#['onclick']\n",
    "\n",
    "\n"
   ]
  },
  {
   "cell_type": "code",
   "execution_count": 120,
   "id": "70d4a7d2",
   "metadata": {},
   "outputs": [
    {
     "name": "stdout",
     "output_type": "stream",
     "text": [
      "Collecting selenium\n",
      "  Downloading selenium-4.3.0-py3-none-any.whl (981 kB)\n",
      "Requirement already satisfied: urllib3[secure,socks]~=1.26 in c:\\users\\favourumeh\\anaconda3\\lib\\site-packages (from selenium) (1.26.9)\n",
      "Collecting trio~=0.17\n",
      "  Downloading trio-0.21.0-py3-none-any.whl (358 kB)\n",
      "Collecting trio-websocket~=0.9\n",
      "  Downloading trio_websocket-0.9.2-py3-none-any.whl (16 kB)\n",
      "Requirement already satisfied: attrs>=19.2.0 in c:\\users\\favourumeh\\anaconda3\\lib\\site-packages (from trio~=0.17->selenium) (21.4.0)\n",
      "Collecting outcome\n",
      "  Downloading outcome-1.2.0-py2.py3-none-any.whl (9.7 kB)\n",
      "Requirement already satisfied: cffi>=1.14 in c:\\users\\favourumeh\\anaconda3\\lib\\site-packages (from trio~=0.17->selenium) (1.15.0)\n",
      "Requirement already satisfied: sniffio in c:\\users\\favourumeh\\anaconda3\\lib\\site-packages (from trio~=0.17->selenium) (1.2.0)\n",
      "Requirement already satisfied: sortedcontainers in c:\\users\\favourumeh\\anaconda3\\lib\\site-packages (from trio~=0.17->selenium) (2.4.0)\n",
      "Requirement already satisfied: idna in c:\\users\\favourumeh\\anaconda3\\lib\\site-packages (from trio~=0.17->selenium) (3.3)\n",
      "Collecting async-generator>=1.9\n",
      "  Downloading async_generator-1.10-py3-none-any.whl (18 kB)\n",
      "Requirement already satisfied: pycparser in c:\\users\\favourumeh\\anaconda3\\lib\\site-packages (from cffi>=1.14->trio~=0.17->selenium) (2.21)\n",
      "Collecting wsproto>=0.14\n",
      "  Downloading wsproto-1.1.0-py3-none-any.whl (24 kB)\n",
      "Requirement already satisfied: cryptography>=1.3.4 in c:\\users\\favourumeh\\anaconda3\\lib\\site-packages (from urllib3[secure,socks]~=1.26->selenium) (3.4.8)\n",
      "Requirement already satisfied: certifi in c:\\users\\favourumeh\\anaconda3\\lib\\site-packages (from urllib3[secure,socks]~=1.26->selenium) (2021.10.8)\n",
      "Requirement already satisfied: pyOpenSSL>=0.14 in c:\\users\\favourumeh\\anaconda3\\lib\\site-packages (from urllib3[secure,socks]~=1.26->selenium) (21.0.0)\n",
      "Requirement already satisfied: PySocks!=1.5.7,<2.0,>=1.5.6 in c:\\users\\favourumeh\\anaconda3\\lib\\site-packages (from urllib3[secure,socks]~=1.26->selenium) (1.7.1)\n",
      "Requirement already satisfied: six>=1.5.2 in c:\\users\\favourumeh\\anaconda3\\lib\\site-packages (from pyOpenSSL>=0.14->urllib3[secure,socks]~=1.26->selenium) (1.16.0)\n",
      "Collecting h11<1,>=0.9.0\n",
      "  Downloading h11-0.13.0-py3-none-any.whl (58 kB)\n",
      "Installing collected packages: outcome, h11, async-generator, wsproto, trio, trio-websocket, selenium\n",
      "Successfully installed async-generator-1.10 h11-0.13.0 outcome-1.2.0 selenium-4.3.0 trio-0.21.0 trio-websocket-0.9.2 wsproto-1.1.0\n",
      "Note: you may need to restart the kernel to use updated packages.\n"
     ]
    }
   ],
   "source": [
    "pip install selenium"
   ]
  },
  {
   "cell_type": "code",
   "execution_count": 122,
   "id": "8c3ccdeb",
   "metadata": {},
   "outputs": [
    {
     "name": "stdout",
     "output_type": "stream",
     "text": [
      "Collecting webdriver-manager\n",
      "  Downloading webdriver_manager-3.7.0-py2.py3-none-any.whl (25 kB)\n",
      "Collecting python-dotenv\n",
      "  Downloading python_dotenv-0.20.0-py3-none-any.whl (17 kB)\n",
      "Requirement already satisfied: requests in c:\\users\\favourumeh\\anaconda3\\lib\\site-packages (from webdriver-manager) (2.27.1)\n",
      "Requirement already satisfied: idna<4,>=2.5 in c:\\users\\favourumeh\\anaconda3\\lib\\site-packages (from requests->webdriver-manager) (3.3)\n",
      "Requirement already satisfied: urllib3<1.27,>=1.21.1 in c:\\users\\favourumeh\\anaconda3\\lib\\site-packages (from requests->webdriver-manager) (1.26.9)\n",
      "Requirement already satisfied: certifi>=2017.4.17 in c:\\users\\favourumeh\\anaconda3\\lib\\site-packages (from requests->webdriver-manager) (2021.10.8)\n",
      "Requirement already satisfied: charset-normalizer~=2.0.0 in c:\\users\\favourumeh\\anaconda3\\lib\\site-packages (from requests->webdriver-manager) (2.0.4)\n",
      "Installing collected packages: python-dotenv, webdriver-manager\n",
      "Successfully installed python-dotenv-0.20.0 webdriver-manager-3.7.0\n",
      "Note: you may need to restart the kernel to use updated packages.\n"
     ]
    }
   ],
   "source": [
    "pip install webdriver-manager"
   ]
  },
  {
   "cell_type": "code",
   "execution_count": 151,
   "id": "cb20c00a",
   "metadata": {},
   "outputs": [
    {
     "name": "stdout",
     "output_type": "stream",
     "text": [
      "\n"
     ]
    },
    {
     "name": "stderr",
     "output_type": "stream",
     "text": [
      "[WDM] - ====== WebDriver manager ======\n",
      "[WDM] - Current google-chrome version is 101.0.4951\n",
      "[WDM] - Get LATEST chromedriver version for 101.0.4951 google-chrome\n",
      "[WDM] - Driver [C:\\Users\\FavourUmeh\\.wdm\\drivers\\chromedriver\\win32\\101.0.4951.41\\chromedriver.exe] found in cache\n",
      "C:\\Users\\FavourUmeh\\AppData\\Local\\Temp\\ipykernel_8924\\162722987.py:8: DeprecationWarning: executable_path has been deprecated, please pass in a Service object\n",
      "  driver = webdriver.Chrome(ChromeDriverManager().install())\n"
     ]
    }
   ],
   "source": [
    "#Using selenium driver to click 'load more button'\n",
    "import time\n",
    "\n",
    "from selenium import webdriver\n",
    "from webdriver_manager.chrome import ChromeDriverManager\n",
    "from selenium.webdriver.common.by import By\n",
    "\n",
    "driver = webdriver.Chrome(ChromeDriverManager().install())\n",
    "\n",
    "driver.get(url)\n",
    "driver.implicitly_wait(10)\n",
    "val = driver.find_element(By.XPATH, \"//button[@id='load-more-trigger']\").click()#click button\n",
    "val = driver.find_element(By.XPATH, \"//input[@id='suggestion-search']\").send_keys('inception') #write 'inception' search bar\n",
    "time.sleep(10)\n",
    "\n",
    "# while driver.find_element(By.XPATH, \"//div[@class='ipl-load-more__button']\").text == 'Load More':\n",
    "#     continue\n",
    "# val = driver.find_element(By.XPATH, \"//div[@class='ipl-load-more__button']\").text\n",
    "# time.sleep(10)\n",
    "# driver.quit()\n",
    "\n",
    "# val\n"
   ]
  },
  {
   "cell_type": "code",
   "execution_count": 152,
   "id": "2dd66b3c",
   "metadata": {},
   "outputs": [],
   "source": [
    "val"
   ]
  },
  {
   "cell_type": "code",
   "execution_count": null,
   "id": "950f8cfa",
   "metadata": {},
   "outputs": [],
   "source": []
  }
 ],
 "metadata": {
  "kernelspec": {
   "display_name": "Python 3 (ipykernel)",
   "language": "python",
   "name": "python3"
  },
  "language_info": {
   "codemirror_mode": {
    "name": "ipython",
    "version": 3
   },
   "file_extension": ".py",
   "mimetype": "text/x-python",
   "name": "python",
   "nbconvert_exporter": "python",
   "pygments_lexer": "ipython3",
   "version": "3.9.12"
  }
 },
 "nbformat": 4,
 "nbformat_minor": 5
}
